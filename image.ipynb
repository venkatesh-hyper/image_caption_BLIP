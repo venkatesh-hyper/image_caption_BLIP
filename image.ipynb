{
 "cells": [
  {
   "cell_type": "markdown",
   "metadata": {},
   "source": [
    "# image to text IMAGE CAPTIONER \n",
    "       \n",
    "         we imput an image this model can caption the image "
   ]
  },
  {
   "cell_type": "markdown",
   "metadata": {},
   "source": [
    "# import required libraries \n",
    "    pillow for image input \n",
    "    numpy for numerical operations\n",
    "    transformers for model importing from  hugging face \n",
    "    gradio for UI/UX"
   ]
  },
  {
   "cell_type": "code",
   "execution_count": 2,
   "metadata": {},
   "outputs": [],
   "source": [
    "import gradio as gr\n",
    "import numpy as np\n",
    "from PIL import Image\n",
    "from transformers import AutoProcessor, BlipForConditionalGeneration"
   ]
  },
  {
   "cell_type": "markdown",
   "metadata": {},
   "source": [
    "# Load the pretrained processor and model\n",
    "    \n",
    "    which is available in hugging face \n",
    "        url :- https://huggingface.co/Salesforce/blip-image-captioning-base/tree/main"
   ]
  },
  {
   "cell_type": "code",
   "execution_count": 3,
   "metadata": {},
   "outputs": [
    {
     "name": "stderr",
     "output_type": "stream",
     "text": [
      "/Users/venkateshp/miniconda3/envs/ven/lib/python3.12/site-packages/transformers/tokenization_utils_base.py:1601: FutureWarning: `clean_up_tokenization_spaces` was not set. It will be set to `True` by default. This behavior will be depracted in transformers v4.45, and will be then set to `False` by default. For more details check this issue: https://github.com/huggingface/transformers/issues/31884\n",
      "  warnings.warn(\n"
     ]
    }
   ],
   "source": [
    "processor = AutoProcessor.from_pretrained(\"Salesforce/blip-image-captioning-base\")\n",
    "model = BlipForConditionalGeneration.from_pretrained(\"Salesforce/blip-image-captioning-base\")"
   ]
  },
  {
   "cell_type": "markdown",
   "metadata": {},
   "source": [
    "# image to array conversion and working on image data to generate caption"
   ]
  },
  {
   "cell_type": "code",
   "execution_count": 4,
   "metadata": {},
   "outputs": [],
   "source": [
    "def caption_image(input_image: np.ndarray):\n",
    "    # Convert numpy array to PIL Image and convert to RGB\n",
    "    raw_image = Image.fromarray(input_image).convert('RGB')\n",
    "\n",
    "    # Prepare inputs with the processor\n",
    "    inputs = processor(images=raw_image, return_tensors=\"pt\")\n",
    "\n",
    "    # Generate a caption for the image\n",
    "    outputs = model.generate(**inputs, max_length=50)\n",
    "\n",
    "    # Decode the generated tokens to text\n",
    "    caption = processor.decode(outputs[0], skip_special_tokens=True)\n",
    "\n",
    "    # Return the caption\n",
    "    return caption"
   ]
  },
  {
   "cell_type": "markdown",
   "metadata": {},
   "source": [
    "# Create Gradio interface"
   ]
  },
  {
   "cell_type": "code",
   "execution_count": 5,
   "metadata": {},
   "outputs": [],
   "source": [
    "iface = gr.Interface(\n",
    "    fn=caption_image, \n",
    "    inputs=gr.Image(), \n",
    "    outputs=\"text\",\n",
    "    title=\"Image Captioning website using BLIP in transformer\",\n",
    "    description=\"This is a simple web app for generating captions for images using a trained model.\"\n",
    ")"
   ]
  },
  {
   "cell_type": "markdown",
   "metadata": {},
   "source": [
    "# Launch the interface"
   ]
  },
  {
   "cell_type": "code",
   "execution_count": 6,
   "metadata": {},
   "outputs": [
    {
     "name": "stdout",
     "output_type": "stream",
     "text": [
      "Running on local URL:  http://127.0.0.1:7860\n",
      "\n",
      "To create a public link, set `share=True` in `launch()`.\n"
     ]
    },
    {
     "data": {
      "text/html": [
       "<div><iframe src=\"http://127.0.0.1:7860/\" width=\"100%\" height=\"500\" allow=\"autoplay; camera; microphone; clipboard-read; clipboard-write;\" frameborder=\"0\" allowfullscreen></iframe></div>"
      ],
      "text/plain": [
       "<IPython.core.display.HTML object>"
      ]
     },
     "metadata": {},
     "output_type": "display_data"
    },
    {
     "data": {
      "text/plain": []
     },
     "execution_count": 6,
     "metadata": {},
     "output_type": "execute_result"
    }
   ],
   "source": [
    "iface.launch()"
   ]
  }
 ],
 "metadata": {
  "kernelspec": {
   "display_name": "ven",
   "language": "python",
   "name": "python3"
  },
  "language_info": {
   "codemirror_mode": {
    "name": "ipython",
    "version": 3
   },
   "file_extension": ".py",
   "mimetype": "text/x-python",
   "name": "python",
   "nbconvert_exporter": "python",
   "pygments_lexer": "ipython3",
   "version": "3.12.4"
  }
 },
 "nbformat": 4,
 "nbformat_minor": 2
}
